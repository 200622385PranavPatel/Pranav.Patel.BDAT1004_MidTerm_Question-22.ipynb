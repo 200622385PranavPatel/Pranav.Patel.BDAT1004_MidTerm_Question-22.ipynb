{
 "cells": [
  {
   "cell_type": "markdown",
   "id": "0dd62228",
   "metadata": {},
   "source": [
    "# Mid Term Data Analytics Programming (BDAT 1004) \n",
    "## Name: Pranav Patel (200622385)"
   ]
  },
  {
   "cell_type": "markdown",
   "id": "b54e1573",
   "metadata": {},
   "source": [
    "## Question 22\n",
    "#### In a jupyter notebook solve the following question using both python and SQL. Please upload the notebook to GitHub and provide the link submission box below.\n",
    "#### Write a solution to find all dates' Id with higher temperatures compared to its previous dates (yesterday).Return the result table in any order.Please use the following input Weather table for your solution. To receive full marks you will need to create the database, create the table, insert the data below and execute the SQL query."
   ]
  },
  {
   "cell_type": "code",
   "execution_count": 1,
   "id": "27072fe5",
   "metadata": {},
   "outputs": [
    {
     "name": "stdout",
     "output_type": "stream",
     "text": [
      "   id\n",
      "0   2\n",
      "1   4\n"
     ]
    }
   ],
   "source": [
    "import sqlite3\n",
    "import pandas as pd\n",
    "\n",
    "# Connecting to the SQLite database\n",
    "conn = sqlite3.connect(':memory:')  # This creates an in-memory database\n",
    "\n",
    "# Creating the Weather table\n",
    "conn.execute('''\n",
    "CREATE TABLE Weather (\n",
    "    id INT PRIMARY KEY,\n",
    "    recordDate DATE,\n",
    "    temperature INT\n",
    ");\n",
    "''')\n",
    "\n",
    "# Inserting data into the Weather table\n",
    "conn.execute(\"INSERT INTO Weather (id, recordDate, temperature) VALUES (1, '2015-01-01', 10);\")\n",
    "conn.execute(\"INSERT INTO Weather (id, recordDate, temperature) VALUES (2, '2015-01-02', 25);\")\n",
    "conn.execute(\"INSERT INTO Weather (id, recordDate, temperature) VALUES (3, '2015-01-03', 20);\")\n",
    "conn.execute(\"INSERT INTO Weather (id, recordDate, temperature) VALUES (4, '2015-01-04', 30);\")\n",
    "\n",
    "# finding dates where the temperature is higher than the previous day\n",
    "query = '''\n",
    "SELECT W1.id\n",
    "FROM Weather W1\n",
    "JOIN Weather W2\n",
    "ON W1.recordDate = date(W2.recordDate, '+1 day')\n",
    "WHERE W1.temperature > W2.temperature;\n",
    "'''\n",
    "\n",
    "# fetching records id of a dates where the temperature is higher than the previous day\n",
    "result = pd.read_sql(query, conn)\n",
    "print(result)\n"
   ]
  },
  {
   "cell_type": "markdown",
   "id": "4a30fa99",
   "metadata": {},
   "source": [
    "#### We found 2 dates where the temperature was higher than the previous day. These dates are:\n",
    "#### 1st id = 2 means, January 2, 2015: The temperature increased from 10 degrees to 25 degrees compared to the day before.\n",
    "#### 2nd id = 4 means, January 4, 2015: The temperature rose from 20 degrees to 30 degrees compared to the day before.\n",
    "#### In both cases, there was a noticeable increase in temperature from the previous day."
   ]
  },
  {
   "cell_type": "code",
   "execution_count": null,
   "id": "5bd82ac0",
   "metadata": {},
   "outputs": [],
   "source": []
  }
 ],
 "metadata": {
  "kernelspec": {
   "display_name": "Python 3 (ipykernel)",
   "language": "python",
   "name": "python3"
  },
  "language_info": {
   "codemirror_mode": {
    "name": "ipython",
    "version": 3
   },
   "file_extension": ".py",
   "mimetype": "text/x-python",
   "name": "python",
   "nbconvert_exporter": "python",
   "pygments_lexer": "ipython3",
   "version": "3.11.4"
  }
 },
 "nbformat": 4,
 "nbformat_minor": 5
}
